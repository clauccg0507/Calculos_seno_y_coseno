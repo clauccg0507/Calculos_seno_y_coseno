{
  "nbformat": 4,
  "nbformat_minor": 0,
  "metadata": {
    "colab": {
      "provenance": [],
      "authorship_tag": "ABX9TyOVaGONzcIRP/vESNywR9r7",
      "include_colab_link": true
    },
    "kernelspec": {
      "name": "python3",
      "display_name": "Python 3"
    },
    "language_info": {
      "name": "python"
    }
  },
  "cells": [
    {
      "cell_type": "markdown",
      "metadata": {
        "id": "view-in-github",
        "colab_type": "text"
      },
      "source": [
        "<a href=\"https://colab.research.google.com/github/clauccg0507/Calculos_seno_y_coseno/blob/main/C%C3%A1lculos_con_seno_y_coseno.ipynb\" target=\"_parent\"><img src=\"https://colab.research.google.com/assets/colab-badge.svg\" alt=\"Open In Colab\"/></a>"
      ]
    },
    {
      "cell_type": "code",
      "source": [
        "#Empleamos la serie de Taylor para seno y coseno\n",
        "#Definición de factorial\n",
        "def factorial(n):\n",
        "  if n==0 or n==1:\n",
        "    resultado=1\n",
        "  elif n>1:\n",
        "    resultado=n*factorial(n-1)\n",
        "  return resultado\n",
        "#Bucle\n",
        "x=\" \"\n",
        "while x==\" \":\n",
        "  x=float(input(\"Ingrese el ángulo: \"))\n",
        "radian=x*3.14159265359/180\n",
        "#Definición de la serie de Taylor para seno\n",
        "n=10\n",
        "def seno(x,n):\n",
        "  seno=0\n",
        "  for n in range(0,n):\n",
        "    seno+=((-1)**n)*(radian**(2*n+1))/(factorial(2*n+1))\n",
        "  return seno\n",
        "print(f\"El seno de {x} determinado por serie de Taylor con {n} repeticiones es {seno(x,n)}\")\n",
        "#Definición de la serie de Taylor para coseno\n",
        "n=10\n",
        "def coseno(x,n):\n",
        "  coseno=0\n",
        "  for n in range(0,n):\n",
        "    coseno+=((-1)**n)*(radian**(2*n))/(factorial(2*n))\n",
        "  return coseno\n",
        "print(f\"El coseno de {x} determinado por serie de Taylor con {n} repeticiones es {coseno(x,n)}\")"
      ],
      "metadata": {
        "colab": {
          "base_uri": "https://localhost:8080/"
        },
        "id": "zhwLfOOUxsgA",
        "outputId": "ef9c87bf-2a22-469d-dc54-5f01647955ee"
      },
      "execution_count": 8,
      "outputs": [
        {
          "output_type": "stream",
          "name": "stdout",
          "text": [
            "Ingrese el ángulo: 45\n",
            "El seno de 45.0 determinado por serie de Taylor con 10 repeticiones es 0.7071067811865841\n",
            "El coseno de 45.0 determinado por serie de Taylor con 10 repeticiones es 0.7071067811865108\n"
          ]
        }
      ]
    },
    {
      "cell_type": "code",
      "source": [
        "import math\n",
        "angulo=\" \" #En grados\n",
        "while angulo==\" \":\n",
        "  angulo=float(input(\"Ingrese un ángulo en grados: \"))\n",
        "radian=math.radians(angulo) #Conversión de grados a radianes\n",
        "seno=math.sin(radian)\n",
        "coseno=math.cos(radian)\n",
        "print(f\"El seno de {angulo}º es {seno} y el coseno es {coseno}.\")"
      ],
      "metadata": {
        "colab": {
          "base_uri": "https://localhost:8080/"
        },
        "id": "GtoLB6M6tEV2",
        "outputId": "191c05ca-848b-4fc6-9bdf-c9e9231174d5"
      },
      "execution_count": 13,
      "outputs": [
        {
          "output_type": "stream",
          "name": "stdout",
          "text": [
            "Ingrese un ángulo en grados: 45\n",
            "El seno de 45.0º es 0.7071067811865475 y el coseno es 0.7071067811865476.\n"
          ]
        }
      ]
    },
    {
      "cell_type": "code",
      "source": [
        "angulo=\" \" #En grados\n",
        "while angulo==\" \":\n",
        "  angulo=float(input(\"Ingrese un ángulo en grados: \"))\n",
        "radian=math.radians(angulo)\n",
        "seno=math.sin(radian)\n",
        "coseno=math.cos(radian)\n",
        "resultado_seno=round(seno,4)\n",
        "resultado_coseno=round(coseno,4)\n",
        "if resultado_seno!=resultado_coseno:\n",
        "  print(f\"Para {angulo}º el seno vale {resultado_seno} y el coseno vale {resultado_coseno}\")\n",
        "else:\n",
        "  print(f\"El valor de seno y coseno para {angulo}º son iguales\")"
      ],
      "metadata": {
        "colab": {
          "base_uri": "https://localhost:8080/"
        },
        "id": "9Y3Zyim5tmPl",
        "outputId": "9385b5ac-222e-4133-f041-926d9fec4e5f"
      },
      "execution_count": 26,
      "outputs": [
        {
          "output_type": "stream",
          "name": "stdout",
          "text": [
            "Ingrese un ángulo en grados: 30\n",
            "Para 30.0º el seno vale 0.5 y el coseno vale 0.866\n"
          ]
        }
      ]
    }
  ]
}